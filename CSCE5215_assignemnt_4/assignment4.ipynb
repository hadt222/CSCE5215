{
 "cells": [
  {
   "cell_type": "markdown",
   "id": "a8a28540",
   "metadata": {},
   "source": [
    "CSCE 5215 Asignment 4\n",
    "\n",
    "Thai Ha Dang 11741833"
   ]
  },
  {
   "cell_type": "markdown",
   "id": "d9c29f85",
   "metadata": {},
   "source": [
    "# Question 1 "
   ]
  },
  {
   "cell_type": "markdown",
   "id": "9f4f0b7a",
   "metadata": {},
   "source": [
    "## Check for null values in the dataset if present remove them. Convert any categorical values to numerical values. Split the data into 70-30 training and testing. "
   ]
  },
  {
   "cell_type": "code",
   "execution_count": 1,
   "id": "9754e415",
   "metadata": {},
   "outputs": [],
   "source": [
    "# import libraries\n",
    "import numpy as np\n",
    "import matplotlib.pyplot as plt\n",
    "import seaborn as sns\n",
    "import pandas as pd\n",
    "from sklearn.model_selection import train_test_split\n",
    "from sklearn.ensemble import RandomForestClassifier, GradientBoostingClassifier, AdaBoostClassifier\n",
    "from sklearn.metrics import accuracy_score, f1_score, precision_score, recall_score\n",
    "from xgboost import XGBClassifier\n",
    "from sklearn.neighbors import KNeighborsClassifier\n",
    "from sklearn.linear_model import LogisticRegression\n",
    "from sklearn.ensemble import StackingClassifier, VotingClassifier\n",
    "from sklearn.tree import DecisionTreeClassifier\n"
   ]
  },
  {
   "cell_type": "code",
   "execution_count": 2,
   "id": "2b594172",
   "metadata": {},
   "outputs": [
    {
     "data": {
      "text/html": [
       "<div>\n",
       "<style scoped>\n",
       "    .dataframe tbody tr th:only-of-type {\n",
       "        vertical-align: middle;\n",
       "    }\n",
       "\n",
       "    .dataframe tbody tr th {\n",
       "        vertical-align: top;\n",
       "    }\n",
       "\n",
       "    .dataframe thead th {\n",
       "        text-align: right;\n",
       "    }\n",
       "</style>\n",
       "<table border=\"1\" class=\"dataframe\">\n",
       "  <thead>\n",
       "    <tr style=\"text-align: right;\">\n",
       "      <th></th>\n",
       "      <th>Age</th>\n",
       "      <th>Sex</th>\n",
       "      <th>ChestPainType</th>\n",
       "      <th>RestingBP</th>\n",
       "      <th>Cholesterol</th>\n",
       "      <th>FastingBS</th>\n",
       "      <th>RestingECG</th>\n",
       "      <th>MaxHR</th>\n",
       "      <th>ExerciseAngina</th>\n",
       "      <th>Oldpeak</th>\n",
       "      <th>ST_Slope</th>\n",
       "      <th>HeartDisease</th>\n",
       "    </tr>\n",
       "  </thead>\n",
       "  <tbody>\n",
       "    <tr>\n",
       "      <th>0</th>\n",
       "      <td>40</td>\n",
       "      <td>M</td>\n",
       "      <td>ATA</td>\n",
       "      <td>140</td>\n",
       "      <td>289</td>\n",
       "      <td>0</td>\n",
       "      <td>Normal</td>\n",
       "      <td>172</td>\n",
       "      <td>N</td>\n",
       "      <td>0.0</td>\n",
       "      <td>Up</td>\n",
       "      <td>0</td>\n",
       "    </tr>\n",
       "    <tr>\n",
       "      <th>1</th>\n",
       "      <td>49</td>\n",
       "      <td>F</td>\n",
       "      <td>NAP</td>\n",
       "      <td>160</td>\n",
       "      <td>180</td>\n",
       "      <td>0</td>\n",
       "      <td>Normal</td>\n",
       "      <td>156</td>\n",
       "      <td>N</td>\n",
       "      <td>1.0</td>\n",
       "      <td>Flat</td>\n",
       "      <td>1</td>\n",
       "    </tr>\n",
       "    <tr>\n",
       "      <th>2</th>\n",
       "      <td>37</td>\n",
       "      <td>M</td>\n",
       "      <td>ATA</td>\n",
       "      <td>130</td>\n",
       "      <td>283</td>\n",
       "      <td>0</td>\n",
       "      <td>ST</td>\n",
       "      <td>98</td>\n",
       "      <td>N</td>\n",
       "      <td>0.0</td>\n",
       "      <td>Up</td>\n",
       "      <td>0</td>\n",
       "    </tr>\n",
       "    <tr>\n",
       "      <th>3</th>\n",
       "      <td>48</td>\n",
       "      <td>F</td>\n",
       "      <td>ASY</td>\n",
       "      <td>138</td>\n",
       "      <td>214</td>\n",
       "      <td>0</td>\n",
       "      <td>Normal</td>\n",
       "      <td>108</td>\n",
       "      <td>Y</td>\n",
       "      <td>1.5</td>\n",
       "      <td>Flat</td>\n",
       "      <td>1</td>\n",
       "    </tr>\n",
       "    <tr>\n",
       "      <th>4</th>\n",
       "      <td>54</td>\n",
       "      <td>M</td>\n",
       "      <td>NAP</td>\n",
       "      <td>150</td>\n",
       "      <td>195</td>\n",
       "      <td>0</td>\n",
       "      <td>Normal</td>\n",
       "      <td>122</td>\n",
       "      <td>N</td>\n",
       "      <td>0.0</td>\n",
       "      <td>Up</td>\n",
       "      <td>0</td>\n",
       "    </tr>\n",
       "  </tbody>\n",
       "</table>\n",
       "</div>"
      ],
      "text/plain": [
       "   Age Sex ChestPainType  RestingBP  Cholesterol  FastingBS RestingECG  MaxHR  \\\n",
       "0   40   M           ATA        140          289          0     Normal    172   \n",
       "1   49   F           NAP        160          180          0     Normal    156   \n",
       "2   37   M           ATA        130          283          0         ST     98   \n",
       "3   48   F           ASY        138          214          0     Normal    108   \n",
       "4   54   M           NAP        150          195          0     Normal    122   \n",
       "\n",
       "  ExerciseAngina  Oldpeak ST_Slope  HeartDisease  \n",
       "0              N      0.0       Up             0  \n",
       "1              N      1.0     Flat             1  \n",
       "2              N      0.0       Up             0  \n",
       "3              Y      1.5     Flat             1  \n",
       "4              N      0.0       Up             0  "
      ]
     },
     "execution_count": 2,
     "metadata": {},
     "output_type": "execute_result"
    }
   ],
   "source": [
    "# load data\n",
    "data = pd.read_csv('heart.csv')\n",
    "data.head()"
   ]
  },
  {
   "cell_type": "code",
   "execution_count": 3,
   "id": "f1745065",
   "metadata": {},
   "outputs": [
    {
     "data": {
      "text/plain": [
       "Age               0\n",
       "Sex               0\n",
       "ChestPainType     0\n",
       "RestingBP         0\n",
       "Cholesterol       0\n",
       "FastingBS         0\n",
       "RestingECG        0\n",
       "MaxHR             0\n",
       "ExerciseAngina    0\n",
       "Oldpeak           0\n",
       "ST_Slope          0\n",
       "HeartDisease      0\n",
       "dtype: int64"
      ]
     },
     "execution_count": 3,
     "metadata": {},
     "output_type": "execute_result"
    }
   ],
   "source": [
    "# data preprocessing\n",
    "df = data.copy()\n",
    "# check for missing values\n",
    "df.isnull().sum()\n"
   ]
  },
  {
   "cell_type": "code",
   "execution_count": 4,
   "id": "b23a51ee",
   "metadata": {},
   "outputs": [
    {
     "name": "stdout",
     "output_type": "stream",
     "text": [
      "<class 'pandas.core.frame.DataFrame'>\n",
      "RangeIndex: 918 entries, 0 to 917\n",
      "Data columns (total 12 columns):\n",
      " #   Column          Non-Null Count  Dtype  \n",
      "---  ------          --------------  -----  \n",
      " 0   Age             918 non-null    int64  \n",
      " 1   Sex             918 non-null    object \n",
      " 2   ChestPainType   918 non-null    object \n",
      " 3   RestingBP       918 non-null    int64  \n",
      " 4   Cholesterol     918 non-null    int64  \n",
      " 5   FastingBS       918 non-null    int64  \n",
      " 6   RestingECG      918 non-null    object \n",
      " 7   MaxHR           918 non-null    int64  \n",
      " 8   ExerciseAngina  918 non-null    object \n",
      " 9   Oldpeak         918 non-null    float64\n",
      " 10  ST_Slope        918 non-null    object \n",
      " 11  HeartDisease    918 non-null    int64  \n",
      "dtypes: float64(1), int64(6), object(5)\n",
      "memory usage: 86.2+ KB\n"
     ]
    }
   ],
   "source": [
    "df.info()"
   ]
  },
  {
   "cell_type": "markdown",
   "id": "97351e4b",
   "metadata": {},
   "source": [
    "we can see column contain categorical values are: ['Sex', 'ChestPainType', 'RestingECG', 'ExerciseAngina', 'ST_Slope']"
   ]
  },
  {
   "cell_type": "code",
   "execution_count": 5,
   "id": "7c7e27fc",
   "metadata": {},
   "outputs": [
    {
     "data": {
      "text/html": [
       "<div>\n",
       "<style scoped>\n",
       "    .dataframe tbody tr th:only-of-type {\n",
       "        vertical-align: middle;\n",
       "    }\n",
       "\n",
       "    .dataframe tbody tr th {\n",
       "        vertical-align: top;\n",
       "    }\n",
       "\n",
       "    .dataframe thead th {\n",
       "        text-align: right;\n",
       "    }\n",
       "</style>\n",
       "<table border=\"1\" class=\"dataframe\">\n",
       "  <thead>\n",
       "    <tr style=\"text-align: right;\">\n",
       "      <th></th>\n",
       "      <th>Age</th>\n",
       "      <th>Sex</th>\n",
       "      <th>ChestPainType</th>\n",
       "      <th>RestingBP</th>\n",
       "      <th>Cholesterol</th>\n",
       "      <th>FastingBS</th>\n",
       "      <th>RestingECG</th>\n",
       "      <th>MaxHR</th>\n",
       "      <th>ExerciseAngina</th>\n",
       "      <th>Oldpeak</th>\n",
       "      <th>ST_Slope</th>\n",
       "      <th>HeartDisease</th>\n",
       "    </tr>\n",
       "  </thead>\n",
       "  <tbody>\n",
       "    <tr>\n",
       "      <th>0</th>\n",
       "      <td>40</td>\n",
       "      <td>M</td>\n",
       "      <td>ATA</td>\n",
       "      <td>140</td>\n",
       "      <td>289</td>\n",
       "      <td>0</td>\n",
       "      <td>Normal</td>\n",
       "      <td>172</td>\n",
       "      <td>N</td>\n",
       "      <td>0.0</td>\n",
       "      <td>Up</td>\n",
       "      <td>0</td>\n",
       "    </tr>\n",
       "    <tr>\n",
       "      <th>1</th>\n",
       "      <td>49</td>\n",
       "      <td>F</td>\n",
       "      <td>NAP</td>\n",
       "      <td>160</td>\n",
       "      <td>180</td>\n",
       "      <td>0</td>\n",
       "      <td>Normal</td>\n",
       "      <td>156</td>\n",
       "      <td>N</td>\n",
       "      <td>1.0</td>\n",
       "      <td>Flat</td>\n",
       "      <td>1</td>\n",
       "    </tr>\n",
       "    <tr>\n",
       "      <th>2</th>\n",
       "      <td>37</td>\n",
       "      <td>M</td>\n",
       "      <td>ATA</td>\n",
       "      <td>130</td>\n",
       "      <td>283</td>\n",
       "      <td>0</td>\n",
       "      <td>ST</td>\n",
       "      <td>98</td>\n",
       "      <td>N</td>\n",
       "      <td>0.0</td>\n",
       "      <td>Up</td>\n",
       "      <td>0</td>\n",
       "    </tr>\n",
       "    <tr>\n",
       "      <th>3</th>\n",
       "      <td>48</td>\n",
       "      <td>F</td>\n",
       "      <td>ASY</td>\n",
       "      <td>138</td>\n",
       "      <td>214</td>\n",
       "      <td>0</td>\n",
       "      <td>Normal</td>\n",
       "      <td>108</td>\n",
       "      <td>Y</td>\n",
       "      <td>1.5</td>\n",
       "      <td>Flat</td>\n",
       "      <td>1</td>\n",
       "    </tr>\n",
       "    <tr>\n",
       "      <th>4</th>\n",
       "      <td>54</td>\n",
       "      <td>M</td>\n",
       "      <td>NAP</td>\n",
       "      <td>150</td>\n",
       "      <td>195</td>\n",
       "      <td>0</td>\n",
       "      <td>Normal</td>\n",
       "      <td>122</td>\n",
       "      <td>N</td>\n",
       "      <td>0.0</td>\n",
       "      <td>Up</td>\n",
       "      <td>0</td>\n",
       "    </tr>\n",
       "  </tbody>\n",
       "</table>\n",
       "</div>"
      ],
      "text/plain": [
       "   Age Sex ChestPainType  RestingBP  Cholesterol  FastingBS RestingECG  MaxHR  \\\n",
       "0   40   M           ATA        140          289          0     Normal    172   \n",
       "1   49   F           NAP        160          180          0     Normal    156   \n",
       "2   37   M           ATA        130          283          0         ST     98   \n",
       "3   48   F           ASY        138          214          0     Normal    108   \n",
       "4   54   M           NAP        150          195          0     Normal    122   \n",
       "\n",
       "  ExerciseAngina  Oldpeak ST_Slope  HeartDisease  \n",
       "0              N      0.0       Up             0  \n",
       "1              N      1.0     Flat             1  \n",
       "2              N      0.0       Up             0  \n",
       "3              Y      1.5     Flat             1  \n",
       "4              N      0.0       Up             0  "
      ]
     },
     "execution_count": 5,
     "metadata": {},
     "output_type": "execute_result"
    }
   ],
   "source": [
    "df.head()"
   ]
  },
  {
   "cell_type": "code",
   "execution_count": 6,
   "id": "15dbe750",
   "metadata": {},
   "outputs": [],
   "source": [
    "# Convert categorical variables to numerical\n",
    "from sklearn.preprocessing import LabelEncoder\n",
    "categorical_cols = ['Sex', 'ChestPainType', 'RestingECG', 'ExerciseAngina', 'ST_Slope']\n",
    "df[categorical_cols] = df[categorical_cols].apply(LabelEncoder().fit_transform)"
   ]
  },
  {
   "cell_type": "code",
   "execution_count": 7,
   "id": "53b3314d",
   "metadata": {},
   "outputs": [
    {
     "data": {
      "text/html": [
       "<div>\n",
       "<style scoped>\n",
       "    .dataframe tbody tr th:only-of-type {\n",
       "        vertical-align: middle;\n",
       "    }\n",
       "\n",
       "    .dataframe tbody tr th {\n",
       "        vertical-align: top;\n",
       "    }\n",
       "\n",
       "    .dataframe thead th {\n",
       "        text-align: right;\n",
       "    }\n",
       "</style>\n",
       "<table border=\"1\" class=\"dataframe\">\n",
       "  <thead>\n",
       "    <tr style=\"text-align: right;\">\n",
       "      <th></th>\n",
       "      <th>Age</th>\n",
       "      <th>Sex</th>\n",
       "      <th>ChestPainType</th>\n",
       "      <th>RestingBP</th>\n",
       "      <th>Cholesterol</th>\n",
       "      <th>FastingBS</th>\n",
       "      <th>RestingECG</th>\n",
       "      <th>MaxHR</th>\n",
       "      <th>ExerciseAngina</th>\n",
       "      <th>Oldpeak</th>\n",
       "      <th>ST_Slope</th>\n",
       "      <th>HeartDisease</th>\n",
       "    </tr>\n",
       "  </thead>\n",
       "  <tbody>\n",
       "    <tr>\n",
       "      <th>0</th>\n",
       "      <td>40</td>\n",
       "      <td>1</td>\n",
       "      <td>1</td>\n",
       "      <td>140</td>\n",
       "      <td>289</td>\n",
       "      <td>0</td>\n",
       "      <td>1</td>\n",
       "      <td>172</td>\n",
       "      <td>0</td>\n",
       "      <td>0.0</td>\n",
       "      <td>2</td>\n",
       "      <td>0</td>\n",
       "    </tr>\n",
       "    <tr>\n",
       "      <th>1</th>\n",
       "      <td>49</td>\n",
       "      <td>0</td>\n",
       "      <td>2</td>\n",
       "      <td>160</td>\n",
       "      <td>180</td>\n",
       "      <td>0</td>\n",
       "      <td>1</td>\n",
       "      <td>156</td>\n",
       "      <td>0</td>\n",
       "      <td>1.0</td>\n",
       "      <td>1</td>\n",
       "      <td>1</td>\n",
       "    </tr>\n",
       "    <tr>\n",
       "      <th>2</th>\n",
       "      <td>37</td>\n",
       "      <td>1</td>\n",
       "      <td>1</td>\n",
       "      <td>130</td>\n",
       "      <td>283</td>\n",
       "      <td>0</td>\n",
       "      <td>2</td>\n",
       "      <td>98</td>\n",
       "      <td>0</td>\n",
       "      <td>0.0</td>\n",
       "      <td>2</td>\n",
       "      <td>0</td>\n",
       "    </tr>\n",
       "    <tr>\n",
       "      <th>3</th>\n",
       "      <td>48</td>\n",
       "      <td>0</td>\n",
       "      <td>0</td>\n",
       "      <td>138</td>\n",
       "      <td>214</td>\n",
       "      <td>0</td>\n",
       "      <td>1</td>\n",
       "      <td>108</td>\n",
       "      <td>1</td>\n",
       "      <td>1.5</td>\n",
       "      <td>1</td>\n",
       "      <td>1</td>\n",
       "    </tr>\n",
       "    <tr>\n",
       "      <th>4</th>\n",
       "      <td>54</td>\n",
       "      <td>1</td>\n",
       "      <td>2</td>\n",
       "      <td>150</td>\n",
       "      <td>195</td>\n",
       "      <td>0</td>\n",
       "      <td>1</td>\n",
       "      <td>122</td>\n",
       "      <td>0</td>\n",
       "      <td>0.0</td>\n",
       "      <td>2</td>\n",
       "      <td>0</td>\n",
       "    </tr>\n",
       "  </tbody>\n",
       "</table>\n",
       "</div>"
      ],
      "text/plain": [
       "   Age  Sex  ChestPainType  RestingBP  Cholesterol  FastingBS  RestingECG  \\\n",
       "0   40    1              1        140          289          0           1   \n",
       "1   49    0              2        160          180          0           1   \n",
       "2   37    1              1        130          283          0           2   \n",
       "3   48    0              0        138          214          0           1   \n",
       "4   54    1              2        150          195          0           1   \n",
       "\n",
       "   MaxHR  ExerciseAngina  Oldpeak  ST_Slope  HeartDisease  \n",
       "0    172               0      0.0         2             0  \n",
       "1    156               0      1.0         1             1  \n",
       "2     98               0      0.0         2             0  \n",
       "3    108               1      1.5         1             1  \n",
       "4    122               0      0.0         2             0  "
      ]
     },
     "execution_count": 7,
     "metadata": {},
     "output_type": "execute_result"
    }
   ],
   "source": [
    "df.head()"
   ]
  },
  {
   "cell_type": "markdown",
   "id": "a5f49569",
   "metadata": {},
   "source": [
    "Now all the collumns are numerical values"
   ]
  },
  {
   "cell_type": "code",
   "execution_count": 8,
   "id": "578e2ec1",
   "metadata": {},
   "outputs": [
    {
     "data": {
      "text/plain": [
       "((642, 11), (276, 11), (642,), (276,))"
      ]
     },
     "execution_count": 8,
     "metadata": {},
     "output_type": "execute_result"
    }
   ],
   "source": [
    "# Split features and target\n",
    "X = df.drop('HeartDisease', axis=1)\n",
    "y = df['HeartDisease']\n",
    "# Split data 70-30\n",
    "X_train, X_test, y_train, y_test = train_test_split(X, y, test_size=0.3, random_state=42)\n",
    "X_train.shape, X_test.shape, y_train.shape, y_test.shape\n"
   ]
  },
  {
   "cell_type": "markdown",
   "id": "8a15a987",
   "metadata": {},
   "source": [
    "## Train the data on Random Forest, Gradient Boosting, AdaBoost and XGBoost. Use n_estimators as 50 for all the models."
   ]
  },
  {
   "cell_type": "code",
   "execution_count": 9,
   "id": "c20d8ea3",
   "metadata": {},
   "outputs": [],
   "source": [
    "# Train Models: \n",
    "# Initialize models: Use 50 estimators for all models\n",
    "models = {\n",
    "    'Random Forest': RandomForestClassifier(n_estimators=50, random_state=42),\n",
    "    'Gradient Boosting': GradientBoostingClassifier(n_estimators=50, random_state=42),\n",
    "    'AdaBoost': AdaBoostClassifier(n_estimators=50, random_state=42),\n",
    "    'XGBoost': XGBClassifier(n_estimators=50, random_state=42, use_label_encoder=False, eval_metric='logloss')\n",
    "}"
   ]
  },
  {
   "cell_type": "markdown",
   "id": "0c32808b",
   "metadata": {},
   "source": [
    "## Evaluate the models based on accuracy, F-1 score, precision and recall. Explain which model performs best and why. "
   ]
  },
  {
   "cell_type": "code",
   "execution_count": 10,
   "id": "74bd7be1",
   "metadata": {},
   "outputs": [
    {
     "name": "stderr",
     "output_type": "stream",
     "text": [
      "c:\\Users\\hadan\\AppData\\Local\\Programs\\Python\\Python312\\Lib\\site-packages\\xgboost\\training.py:183: UserWarning: [12:40:35] WARNING: C:\\actions-runner\\_work\\xgboost\\xgboost\\src\\learner.cc:738: \n",
      "Parameters: { \"use_label_encoder\" } are not used.\n",
      "\n",
      "  bst.update(dtrain, iteration=i, fobj=obj)\n"
     ]
    }
   ],
   "source": [
    "# Train and predict\n",
    "results = {}\n",
    "for name, model in models.items():\n",
    "    model.fit(X_train, y_train)\n",
    "    y_pred = model.predict(X_test)\n",
    "    \n",
    "    # Evaluate Models (15 Points)\n",
    "    results[name] = {\n",
    "        'Accuracy': accuracy_score(y_test, y_pred),\n",
    "        'F1-Score': f1_score(y_test, y_pred),\n",
    "        'Precision': precision_score(y_test, y_pred),\n",
    "        'Recall': recall_score(y_test, y_pred)\n",
    "    }"
   ]
  },
  {
   "cell_type": "code",
   "execution_count": 11,
   "id": "fbd30f94",
   "metadata": {},
   "outputs": [
    {
     "name": "stdout",
     "output_type": "stream",
     "text": [
      "\n",
      "Model Performance:\n",
      "                    Accuracy  F1-Score  Precision    Recall\n",
      "Random Forest      0.894928  0.910769   0.919255  0.902439\n",
      "Gradient Boosting  0.862319  0.879747   0.914474  0.847561\n",
      "AdaBoost           0.873188  0.888179   0.932886  0.847561\n",
      "XGBoost            0.847826  0.867089   0.901316  0.835366\n",
      "\n",
      "Best Model: Random Forest\n",
      "Reasoning: The best model is determined by highest accuracy as it balances both classes well. However, if the dataset is imbalanced, F1-score might be more critical due to its consideration of both precision and recall.\n"
     ]
    }
   ],
   "source": [
    "# Display results\n",
    "results_df = pd.DataFrame(results).T\n",
    "print(\"\\nModel Performance:\\n\", results_df)\n",
    "\n",
    "# Explanation of best model\n",
    "best_model = results_df['Accuracy'].idxmax()\n",
    "print(f\"\\nBest Model: {best_model}\")\n",
    "print(\"Reasoning: The best model is determined by highest accuracy as it balances both classes well. However, if the dataset is imbalanced, F1-score might be more critical due to its consideration of both precision and recall.\")"
   ]
  },
  {
   "cell_type": "markdown",
   "id": "61365251",
   "metadata": {},
   "source": [
    "## Check for feature importance of all the models. Determine which features showcase more importance and which show least. "
   ]
  },
  {
   "cell_type": "code",
   "execution_count": 12,
   "id": "f095ec47",
   "metadata": {},
   "outputs": [],
   "source": [
    "# Feature Importance\n",
    "def plot_feature_importance(name, model):\n",
    "    importances = model.feature_importances_\n",
    "    feature_importance = pd.Series(importances, index=X.columns).sort_values(ascending=False)\n",
    "    plt.figure(figsize=(10, 6))\n",
    "    sns.barplot(x=feature_importance, y=feature_importance.index)\n",
    "    plt.title(f'Feature Importance for {name}')\n",
    "    plt.show()\n",
    "\n",
    "def check_feature_importance(name, model):\n",
    "    print(f\"\\nFeature Importance for {name}:\")\n",
    "    importances = model.feature_importances_\n",
    "    feature_importance = pd.Series(importances, index=X.columns).sort_values(ascending=False)\n",
    "    print(feature_importance)\n",
    "    print(f\"Most Important: {feature_importance.index[0]}\")\n",
    "    print(f\"Least Important: {feature_importance.index[-1]}\")\n",
    "\n",
    "# plot_feature_importance(models['Random Forest'], X_train, 'Random Forest')\n",
    "# plot_feature_importance(models['Gradient Boosting'], X_train, 'Gradient Boosting')\n",
    "\n",
    "# for name, model in models.items():\n",
    "#     print(f\"\\nFeature Importance for {name}:\")\n",
    "#     importances = model.feature_importances_\n",
    "#     feature_importance = pd.Series(importances, index=X.columns).sort_values(ascending=False)\n",
    "#     print(feature_importance)\n",
    "#     print(f\"Most Important: {feature_importance.index[0]}\")\n",
    "#     print(f\"Least Important: {feature_importance.index[-1]}\")"
   ]
  },
  {
   "cell_type": "code",
   "execution_count": 13,
   "id": "45928e6c",
   "metadata": {},
   "outputs": [
    {
     "data": {
      "image/png": "[encoded data removed]",
      "text/plain": [
       "<Figure size 1000x600 with 1 Axes>"
      ]
     },
     "metadata": {},
     "output_type": "display_data"
    },
    {
     "name": "stdout",
     "output_type": "stream",
     "text": [
      "\n",
      "Feature Importance for Random Forest:\n",
      "ST_Slope          0.217113\n",
      "Oldpeak           0.146899\n",
      "Cholesterol       0.117687\n",
      "ChestPainType     0.101022\n",
      "Age               0.092972\n",
      "ExerciseAngina    0.091513\n",
      "MaxHR             0.089152\n",
      "RestingBP         0.068596\n",
      "RestingECG        0.027285\n",
      "Sex               0.026859\n",
      "FastingBS         0.020902\n",
      "dtype: float64\n",
      "Most Important: ST_Slope\n",
      "Least Important: FastingBS\n"
     ]
    }
   ],
   "source": [
    "# check the feature importance for Random Forest\n",
    "plot_feature_importance('Random Forest', models['Random Forest'])\n",
    "check_feature_importance('Random Forest', models['Random Forest'])\n"
   ]
  },
  {
   "cell_type": "code",
   "execution_count": 14,
   "id": "9c6519c4",
   "metadata": {},
   "outputs": [
    {
     "data": {
      "image/png": "[encoded data removed]",
      "text/plain": [
       "<Figure size 1000x600 with 1 Axes>"
      ]
     },
     "metadata": {},
     "output_type": "display_data"
    },
    {
     "name": "stdout",
     "output_type": "stream",
     "text": [
      "\n",
      "Feature Importance for Gradient Boosting:\n",
      "ST_Slope          0.528095\n",
      "Oldpeak           0.113850\n",
      "ChestPainType     0.084139\n",
      "ExerciseAngina    0.057288\n",
      "Cholesterol       0.049679\n",
      "MaxHR             0.044578\n",
      "Sex               0.039448\n",
      "Age               0.038293\n",
      "RestingBP         0.025276\n",
      "FastingBS         0.015787\n",
      "RestingECG        0.003567\n",
      "dtype: float64\n",
      "Most Important: ST_Slope\n",
      "Least Important: RestingECG\n"
     ]
    }
   ],
   "source": [
    "# check the feature importance for Gradient Boosting\n",
    "plot_feature_importance('Gradient Boosting', models['Gradient Boosting'])\n",
    "check_feature_importance('Gradient Boosting', models['Gradient Boosting'])\n"
   ]
  },
  {
   "cell_type": "code",
   "execution_count": 15,
   "id": "a364148d",
   "metadata": {},
   "outputs": [
    {
     "data": {
      "image/png": "[encoded data removed]",
      "text/plain": [
       "<Figure size 1000x600 with 1 Axes>"
      ]
     },
     "metadata": {},
     "output_type": "display_data"
    },
    {
     "name": "stdout",
     "output_type": "stream",
     "text": [
      "\n",
      "Feature Importance for AdaBoost:\n",
      "ST_Slope          0.213863\n",
      "Oldpeak           0.161866\n",
      "MaxHR             0.145470\n",
      "Cholesterol       0.124807\n",
      "Age               0.115851\n",
      "ChestPainType     0.092234\n",
      "Sex               0.057847\n",
      "ExerciseAngina    0.034454\n",
      "FastingBS         0.032954\n",
      "RestingECG        0.020654\n",
      "RestingBP         0.000000\n",
      "dtype: float64\n",
      "Most Important: ST_Slope\n",
      "Least Important: RestingBP\n"
     ]
    }
   ],
   "source": [
    "# check the feature importance for AdaBoost\n",
    "plot_feature_importance('AdaBoost', models['AdaBoost'])\n",
    "check_feature_importance('AdaBoost', models['AdaBoost'])"
   ]
  },
  {
   "cell_type": "code",
   "execution_count": 16,
   "id": "063716d7",
   "metadata": {},
   "outputs": [
    {
     "data": {
      "image/png": "[encoded data removed]",
      "text/plain": [
       "<Figure size 1000x600 with 1 Axes>"
      ]
     },
     "metadata": {},
     "output_type": "display_data"
    },
    {
     "name": "stdout",
     "output_type": "stream",
     "text": [
      "\n",
      "Feature Importance for XGBoost:\n",
      "ST_Slope          0.546963\n",
      "ChestPainType     0.091898\n",
      "ExerciseAngina    0.083203\n",
      "Sex               0.057753\n",
      "Oldpeak           0.049837\n",
      "FastingBS         0.043364\n",
      "Cholesterol       0.026693\n",
      "RestingBP         0.026360\n",
      "MaxHR             0.026345\n",
      "RestingECG        0.024321\n",
      "Age               0.023263\n",
      "dtype: float32\n",
      "Most Important: ST_Slope\n",
      "Least Important: Age\n"
     ]
    }
   ],
   "source": [
    "# check the feature importance for XGBoost\n",
    "plot_feature_importance('XGBoost', models['XGBoost'])\n",
    "check_feature_importance('XGBoost', models['XGBoost'])"
   ]
  },
  {
   "cell_type": "markdown",
   "id": "e84348bb",
   "metadata": {},
   "source": [
    "# Question 2"
   ]
  },
  {
   "cell_type": "markdown",
   "id": "6631858c",
   "metadata": {},
   "source": [
    "Use the heart.csv dataset. Use the attributes Age, Sex, ChestPainType, RestingBP, RestingECG and ExerciseAngina only. Compare the performances of models below:"
   ]
  },
  {
   "cell_type": "markdown",
   "id": "477b2ff3",
   "metadata": {},
   "source": [
    "## Check for null values in the dataset if present remove them. Convert any categorical values to numerical values. Split the data into 60-40 training and testing. "
   ]
  },
  {
   "cell_type": "code",
   "execution_count": 17,
   "id": "6b8037ff",
   "metadata": {},
   "outputs": [],
   "source": [
    "df = data.copy()"
   ]
  },
  {
   "cell_type": "code",
   "execution_count": 18,
   "id": "cb827af1",
   "metadata": {},
   "outputs": [
    {
     "data": {
      "text/html": [
       "<div>\n",
       "<style scoped>\n",
       "    .dataframe tbody tr th:only-of-type {\n",
       "        vertical-align: middle;\n",
       "    }\n",
       "\n",
       "    .dataframe tbody tr th {\n",
       "        vertical-align: top;\n",
       "    }\n",
       "\n",
       "    .dataframe thead th {\n",
       "        text-align: right;\n",
       "    }\n",
       "</style>\n",
       "<table border=\"1\" class=\"dataframe\">\n",
       "  <thead>\n",
       "    <tr style=\"text-align: right;\">\n",
       "      <th></th>\n",
       "      <th>Age</th>\n",
       "      <th>Sex</th>\n",
       "      <th>ChestPainType</th>\n",
       "      <th>RestingBP</th>\n",
       "      <th>RestingECG</th>\n",
       "      <th>ExerciseAngina</th>\n",
       "      <th>HeartDisease</th>\n",
       "    </tr>\n",
       "  </thead>\n",
       "  <tbody>\n",
       "    <tr>\n",
       "      <th>0</th>\n",
       "      <td>40</td>\n",
       "      <td>M</td>\n",
       "      <td>ATA</td>\n",
       "      <td>140</td>\n",
       "      <td>Normal</td>\n",
       "      <td>N</td>\n",
       "      <td>0</td>\n",
       "    </tr>\n",
       "    <tr>\n",
       "      <th>1</th>\n",
       "      <td>49</td>\n",
       "      <td>F</td>\n",
       "      <td>NAP</td>\n",
       "      <td>160</td>\n",
       "      <td>Normal</td>\n",
       "      <td>N</td>\n",
       "      <td>1</td>\n",
       "    </tr>\n",
       "    <tr>\n",
       "      <th>2</th>\n",
       "      <td>37</td>\n",
       "      <td>M</td>\n",
       "      <td>ATA</td>\n",
       "      <td>130</td>\n",
       "      <td>ST</td>\n",
       "      <td>N</td>\n",
       "      <td>0</td>\n",
       "    </tr>\n",
       "    <tr>\n",
       "      <th>3</th>\n",
       "      <td>48</td>\n",
       "      <td>F</td>\n",
       "      <td>ASY</td>\n",
       "      <td>138</td>\n",
       "      <td>Normal</td>\n",
       "      <td>Y</td>\n",
       "      <td>1</td>\n",
       "    </tr>\n",
       "    <tr>\n",
       "      <th>4</th>\n",
       "      <td>54</td>\n",
       "      <td>M</td>\n",
       "      <td>NAP</td>\n",
       "      <td>150</td>\n",
       "      <td>Normal</td>\n",
       "      <td>N</td>\n",
       "      <td>0</td>\n",
       "    </tr>\n",
       "  </tbody>\n",
       "</table>\n",
       "</div>"
      ],
      "text/plain": [
       "   Age Sex ChestPainType  RestingBP RestingECG ExerciseAngina  HeartDisease\n",
       "0   40   M           ATA        140     Normal              N             0\n",
       "1   49   F           NAP        160     Normal              N             1\n",
       "2   37   M           ATA        130         ST              N             0\n",
       "3   48   F           ASY        138     Normal              Y             1\n",
       "4   54   M           NAP        150     Normal              N             0"
      ]
     },
     "execution_count": 18,
     "metadata": {},
     "output_type": "execute_result"
    }
   ],
   "source": [
    "# Data Preprocessing\n",
    "# Select specified columns\n",
    "selected_cols = ['Age', 'Sex', 'ChestPainType', 'RestingBP', 'RestingECG', 'ExerciseAngina', 'HeartDisease']\n",
    "df = df[selected_cols]\n",
    "df.head()"
   ]
  },
  {
   "cell_type": "code",
   "execution_count": 19,
   "id": "2f11578c",
   "metadata": {},
   "outputs": [
    {
     "name": "stdout",
     "output_type": "stream",
     "text": [
      "Null values:\n",
      " Age               0\n",
      "Sex               0\n",
      "ChestPainType     0\n",
      "RestingBP         0\n",
      "RestingECG        0\n",
      "ExerciseAngina    0\n",
      "HeartDisease      0\n",
      "dtype: int64\n"
     ]
    }
   ],
   "source": [
    "# Check for null values\n",
    "print(\"Null values:\\n\", df.isnull().sum())\n",
    "df = df.dropna()"
   ]
  },
  {
   "cell_type": "code",
   "execution_count": 20,
   "id": "1c92dbfe",
   "metadata": {},
   "outputs": [
    {
     "name": "stdout",
     "output_type": "stream",
     "text": [
      "<class 'pandas.core.frame.DataFrame'>\n",
      "RangeIndex: 918 entries, 0 to 917\n",
      "Data columns (total 7 columns):\n",
      " #   Column          Non-Null Count  Dtype \n",
      "---  ------          --------------  ----- \n",
      " 0   Age             918 non-null    int64 \n",
      " 1   Sex             918 non-null    object\n",
      " 2   ChestPainType   918 non-null    object\n",
      " 3   RestingBP       918 non-null    int64 \n",
      " 4   RestingECG      918 non-null    object\n",
      " 5   ExerciseAngina  918 non-null    object\n",
      " 6   HeartDisease    918 non-null    int64 \n",
      "dtypes: int64(3), object(4)\n",
      "memory usage: 50.3+ KB\n"
     ]
    }
   ],
   "source": [
    "df.info()"
   ]
  },
  {
   "cell_type": "markdown",
   "id": "854c5d4f",
   "metadata": {},
   "source": [
    "We can see the collumns that contain categorical values is ['Sex', 'ChestPainType', 'RestingECG', 'ExerciseAngina']"
   ]
  },
  {
   "cell_type": "code",
   "execution_count": 21,
   "id": "cbcbe54a",
   "metadata": {},
   "outputs": [
    {
     "data": {
      "text/html": [
       "<div>\n",
       "<style scoped>\n",
       "    .dataframe tbody tr th:only-of-type {\n",
       "        vertical-align: middle;\n",
       "    }\n",
       "\n",
       "    .dataframe tbody tr th {\n",
       "        vertical-align: top;\n",
       "    }\n",
       "\n",
       "    .dataframe thead th {\n",
       "        text-align: right;\n",
       "    }\n",
       "</style>\n",
       "<table border=\"1\" class=\"dataframe\">\n",
       "  <thead>\n",
       "    <tr style=\"text-align: right;\">\n",
       "      <th></th>\n",
       "      <th>Age</th>\n",
       "      <th>Sex</th>\n",
       "      <th>ChestPainType</th>\n",
       "      <th>RestingBP</th>\n",
       "      <th>RestingECG</th>\n",
       "      <th>ExerciseAngina</th>\n",
       "      <th>HeartDisease</th>\n",
       "    </tr>\n",
       "  </thead>\n",
       "  <tbody>\n",
       "    <tr>\n",
       "      <th>0</th>\n",
       "      <td>40</td>\n",
       "      <td>1</td>\n",
       "      <td>1</td>\n",
       "      <td>140</td>\n",
       "      <td>1</td>\n",
       "      <td>0</td>\n",
       "      <td>0</td>\n",
       "    </tr>\n",
       "    <tr>\n",
       "      <th>1</th>\n",
       "      <td>49</td>\n",
       "      <td>0</td>\n",
       "      <td>2</td>\n",
       "      <td>160</td>\n",
       "      <td>1</td>\n",
       "      <td>0</td>\n",
       "      <td>1</td>\n",
       "    </tr>\n",
       "    <tr>\n",
       "      <th>2</th>\n",
       "      <td>37</td>\n",
       "      <td>1</td>\n",
       "      <td>1</td>\n",
       "      <td>130</td>\n",
       "      <td>2</td>\n",
       "      <td>0</td>\n",
       "      <td>0</td>\n",
       "    </tr>\n",
       "    <tr>\n",
       "      <th>3</th>\n",
       "      <td>48</td>\n",
       "      <td>0</td>\n",
       "      <td>0</td>\n",
       "      <td>138</td>\n",
       "      <td>1</td>\n",
       "      <td>1</td>\n",
       "      <td>1</td>\n",
       "    </tr>\n",
       "    <tr>\n",
       "      <th>4</th>\n",
       "      <td>54</td>\n",
       "      <td>1</td>\n",
       "      <td>2</td>\n",
       "      <td>150</td>\n",
       "      <td>1</td>\n",
       "      <td>0</td>\n",
       "      <td>0</td>\n",
       "    </tr>\n",
       "  </tbody>\n",
       "</table>\n",
       "</div>"
      ],
      "text/plain": [
       "   Age  Sex  ChestPainType  RestingBP  RestingECG  ExerciseAngina  \\\n",
       "0   40    1              1        140           1               0   \n",
       "1   49    0              2        160           1               0   \n",
       "2   37    1              1        130           2               0   \n",
       "3   48    0              0        138           1               1   \n",
       "4   54    1              2        150           1               0   \n",
       "\n",
       "   HeartDisease  \n",
       "0             0  \n",
       "1             1  \n",
       "2             0  \n",
       "3             1  \n",
       "4             0  "
      ]
     },
     "execution_count": 21,
     "metadata": {},
     "output_type": "execute_result"
    }
   ],
   "source": [
    "# Convert categorical to numerical\n",
    "categorical_cols = ['Sex', 'ChestPainType', 'RestingECG', 'ExerciseAngina']\n",
    "df[categorical_cols] = df[categorical_cols].apply(LabelEncoder().fit_transform)\n",
    "df.head()"
   ]
  },
  {
   "cell_type": "code",
   "execution_count": 22,
   "id": "b2c86590",
   "metadata": {},
   "outputs": [],
   "source": [
    "# Split features and target\n",
    "X = df.drop('HeartDisease', axis=1)\n",
    "y = df['HeartDisease']\n",
    "\n",
    "# Split data 60-40\n",
    "X_train, X_test, y_train, y_test = train_test_split(X, y, test_size=0.4, random_state=42)"
   ]
  },
  {
   "cell_type": "markdown",
   "id": "2bcef13d",
   "metadata": {},
   "source": [
    "## Train the data on KNN, Decision Trees and Logistic regression individually"
   ]
  },
  {
   "cell_type": "code",
   "execution_count": 23,
   "id": "3eedaec5",
   "metadata": {},
   "outputs": [],
   "source": [
    "# Train Individual Models\n",
    "# Initialize models\n",
    "models = {\n",
    "    'KNN': KNeighborsClassifier(),\n",
    "    'Decision Tree': DecisionTreeClassifier(random_state=42),\n",
    "    'Logistic Regression': LogisticRegression(max_iter=1000, random_state=42)\n",
    "}"
   ]
  },
  {
   "cell_type": "code",
   "execution_count": 24,
   "id": "7f8c140b",
   "metadata": {},
   "outputs": [],
   "source": [
    "# Train and predict individual models\n",
    "individual_results = {}\n",
    "for name, model in models.items():\n",
    "    model.fit(X_train, y_train)\n",
    "    y_pred = model.predict(X_test)\n",
    "    \n",
    "    # Evaluate Models\n",
    "    individual_results[name] = {\n",
    "        'Accuracy': accuracy_score(y_test, y_pred),\n",
    "        'F1-Score': f1_score(y_test, y_pred),\n",
    "        'Precision': precision_score(y_test, y_pred),\n",
    "        'Recall': recall_score(y_test, y_pred)\n",
    "    }"
   ]
  },
  {
   "cell_type": "code",
   "execution_count": 25,
   "id": "58ca0bd6",
   "metadata": {},
   "outputs": [
    {
     "name": "stdout",
     "output_type": "stream",
     "text": [
      "\n",
      "Individual Model Performance:\n",
      "                      Accuracy  F1-Score  Precision    Recall\n",
      "KNN                  0.663043  0.696078   0.759358  0.642534\n",
      "Decision Tree        0.698370  0.727273   0.795699  0.669683\n",
      "Logistic Regression  0.788043  0.809756   0.878307  0.751131\n"
     ]
    }
   ],
   "source": [
    "# Display individual model results\n",
    "individual_results_df = pd.DataFrame(individual_results).T\n",
    "print(\"\\nIndividual Model Performance:\\n\", individual_results_df)\n"
   ]
  },
  {
   "cell_type": "markdown",
   "id": "fe2ef317",
   "metadata": {},
   "source": [
    "## Train the data on stacking model (Final estimator as logistic regression) and voting classifier (voting type hard) based on the above three models."
   ]
  },
  {
   "cell_type": "code",
   "execution_count": 26,
   "id": "15e46d32",
   "metadata": {},
   "outputs": [],
   "source": [
    "# Train Stacking and Voting Models\n",
    "estimators = [(name, model) for name, model in models.items()]\n",
    "\n",
    "# Stacking\n",
    "stacking_model = StackingClassifier(estimators=estimators, final_estimator=LogisticRegression())\n",
    "stacking_model.fit(X_train, y_train)\n",
    "stacking_pred = stacking_model.predict(X_test)\n",
    "\n",
    "# Voting\n",
    "voting_model = VotingClassifier(estimators=estimators, voting='hard')\n",
    "voting_model.fit(X_train, y_train)\n",
    "voting_pred = voting_model.predict(X_test)"
   ]
  },
  {
   "cell_type": "code",
   "execution_count": 27,
   "id": "0128a793",
   "metadata": {},
   "outputs": [],
   "source": [
    "# Evaluate ensemble models\n",
    "ensemble_results = {\n",
    "    'Stacking': {\n",
    "        'Accuracy': accuracy_score(y_test, stacking_pred),\n",
    "        'F1-Score': f1_score(y_test, stacking_pred),\n",
    "        'Precision': precision_score(y_test, stacking_pred),\n",
    "        'Recall': recall_score(y_test, stacking_pred)\n",
    "    },\n",
    "    'Voting': {\n",
    "        'Accuracy': accuracy_score(y_test, voting_pred),\n",
    "        'F1-Score': f1_score(y_test, voting_pred),\n",
    "        'Precision': precision_score(y_test, voting_pred),\n",
    "        'Recall': recall_score(y_test, voting_pred)\n",
    "    }\n",
    "}"
   ]
  },
  {
   "cell_type": "code",
   "execution_count": 28,
   "id": "8a2e7c41",
   "metadata": {},
   "outputs": [
    {
     "name": "stdout",
     "output_type": "stream",
     "text": [
      "\n",
      "Ensemble Model Performance:\n",
      "           Accuracy  F1-Score  Precision    Recall\n",
      "Stacking  0.777174  0.802885   0.856410  0.755656\n",
      "Voting    0.750000  0.770000   0.860335  0.696833\n"
     ]
    }
   ],
   "source": [
    "# Display ensemble model results\n",
    "ensemble_results_df = pd.DataFrame(ensemble_results).T\n",
    "print(\"\\nEnsemble Model Performance:\\n\", ensemble_results_df)"
   ]
  },
  {
   "cell_type": "markdown",
   "id": "b6c6f0f2",
   "metadata": {},
   "source": [
    "## Evaluate the models based on accuracy, F-1 score, precision and recall. Explain which model performs best and why. "
   ]
  },
  {
   "cell_type": "code",
   "execution_count": 29,
   "id": "4086c19f",
   "metadata": {},
   "outputs": [
    {
     "name": "stdout",
     "output_type": "stream",
     "text": [
      "\n",
      "Individual Model Performance:\n",
      "                      Accuracy  F1-Score  Precision    Recall\n",
      "KNN                  0.663043  0.696078   0.759358  0.642534\n",
      "Decision Tree        0.698370  0.727273   0.795699  0.669683\n",
      "Logistic Regression  0.788043  0.809756   0.878307  0.751131\n",
      "\n",
      "Ensemble Model Performance:\n",
      "           Accuracy  F1-Score  Precision    Recall\n",
      "Stacking  0.777174  0.802885   0.856410  0.755656\n",
      "Voting    0.750000  0.770000   0.860335  0.696833\n",
      "\n",
      "Best Model: Logistic Regression\n",
      "Reasoning: The best model is chosen based on highest accuracy, but F1-score might be more relevant if classes are imbalanced.\n"
     ]
    }
   ],
   "source": [
    "# Display results\n",
    "print(\"\\nIndividual Model Performance:\\n\", pd.DataFrame(individual_results).T)\n",
    "print(\"\\nEnsemble Model Performance:\\n\", pd.DataFrame(ensemble_results).T)\n",
    "\n",
    "# Best model explanation\n",
    "all_results = {**individual_results, **ensemble_results}\n",
    "best_model = pd.DataFrame(all_results).T['Accuracy'].idxmax()\n",
    "print(f\"\\nBest Model: {best_model}\")\n",
    "print(\"Reasoning: The best model is chosen based on highest accuracy, but F1-score might be more relevant if classes are imbalanced.\")"
   ]
  },
  {
   "cell_type": "markdown",
   "id": "c2e92fe9",
   "metadata": {},
   "source": [
    "## Discuss whether stacking improves the predictive accuracy compared to individual models. "
   ]
  },
  {
   "cell_type": "code",
   "execution_count": 30,
   "id": "4be09acf",
   "metadata": {},
   "outputs": [
    {
     "name": "stdout",
     "output_type": "stream",
     "text": [
      "\n",
      "Stacking vs Individual Models:\n",
      "Stacking Accuracy: 0.7771739130434783\n",
      "Individual Accuracies:\n",
      "KNN                    0.663043\n",
      "Decision Tree          0.698370\n",
      "Logistic Regression    0.788043\n",
      "Name: Accuracy, dtype: float64\n",
      "Stacking does not improve accuracy over the best individual model, possibly due to model similarity or data complexity.\n"
     ]
    }
   ],
   "source": [
    "# Stacking Improvement Discussion\n",
    "stacking_acc = ensemble_results['Stacking']['Accuracy']\n",
    "individual_acc = pd.DataFrame(individual_results).T['Accuracy']\n",
    "print(\"\\nStacking vs Individual Models:\")\n",
    "print(f\"Stacking Accuracy: {stacking_acc}\")\n",
    "print(f\"Individual Accuracies:\\n{individual_acc}\")\n",
    "if stacking_acc > individual_acc.max():\n",
    "    print(\"Stacking improves predictive accuracy by combining strengths of individual models.\")\n",
    "else:\n",
    "    print(\"Stacking does not improve accuracy over the best individual model, possibly due to model similarity or data complexity.\")"
   ]
  },
  {
   "cell_type": "code",
   "execution_count": null,
   "id": "e81ec8ab",
   "metadata": {},
   "outputs": [],
   "source": []
  },
  {
   "cell_type": "code",
   "execution_count": null,
   "id": "fe2b8cab",
   "metadata": {},
   "outputs": [],
   "source": []
  }
 ],
 "metadata": {
  "kernelspec": {
   "display_name": "Python 3",
   "language": "python",
   "name": "python3"
  },
  "language_info": {
   "codemirror_mode": {
    "name": "ipython",
    "version": 3
   },
   "file_extension": ".py",
   "mimetype": "text/x-python",
   "name": "python",
   "nbconvert_exporter": "python",
   "pygments_lexer": "ipython3",
   "version": "3.12.3"
  }
 },
 "nbformat": 4,
 "nbformat_minor": 5
}
